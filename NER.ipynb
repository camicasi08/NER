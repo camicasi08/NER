{
 "cells": [
  {
   "cell_type": "code",
   "execution_count": 1,
   "metadata": {
    "scrolled": false
   },
   "outputs": [
    {
     "name": "stderr",
     "output_type": "stream",
     "text": [
      "Using TensorFlow backend.\n"
     ]
    }
   ],
   "source": [
    "import pandas as pd\n",
    "import numpy as np\n",
    "from preprocessing import get_vocab, index_sents, SeparateInput, GetCharSentence, tag_input, bio_classification_report\n",
    "from embedding import create_embeddings, create_embeddings_fastext\n",
    "from sklearn.model_selection import train_test_split"
   ]
  },
  {
   "cell_type": "code",
   "execution_count": 2,
   "metadata": {},
   "outputs": [],
   "source": [
    "#!pip install keras-tqdm\n",
    "%matplotlib inline\n",
    "import matplotlib.pyplot as plt\n",
    "import numpy as np\n",
    "from keras.preprocessing import sequence\n",
    "from keras.models import Model\n",
    "from keras.layers.wrappers import Bidirectional\n",
    "from keras.layers import TimeDistributed, Conv1D, Dense, Embedding, Input, Dropout, LSTM, Bidirectional, MaxPooling1D, \\\n",
    "    Flatten, concatenate, GRU\n",
    "from keras_contrib.layers import CRF\n",
    "from keras_contrib.utils import save_load_utils\n",
    "from keras_tqdm import TQDMNotebookCallback\n",
    "from embedding import load_vocab\n",
    "from keras.initializers import RandomUniform\n",
    "from keras.utils import plot_model\n",
    "from keras.optimizers import Adam"
   ]
  },
  {
   "cell_type": "code",
   "execution_count": 3,
   "metadata": {},
   "outputs": [],
   "source": [
    "from seqeval.metrics import precision_score, recall_score, f1_score, classification_report"
   ]
  },
  {
   "cell_type": "code",
   "execution_count": 4,
   "metadata": {},
   "outputs": [],
   "source": [
    "class NerModel(object):\n",
    "    \n",
    "    def __init__(self,corpus, epochs=5, dropout=0.25, lstm_size=400, embedding_size=300, \n",
    "                 sentence_max_length=30, max_len_char=10, conv_size=3, batch_size=64 , learning_rate =0.001,\n",
    "                  use_wemb=True, use_cemb=True, use_pemb=True, pretrained_embeddings=False):\n",
    "        self.epochs = epochs\n",
    "        self.dropout = dropout\n",
    "        self.lstm_size = lstm_size\n",
    "        self.embedding_size = embedding_size\n",
    "        self.sentence_max_length = sentence_max_length\n",
    "        self.max_len_char = max_len_char\n",
    "        self.conv_size = conv_size\n",
    "        self.pos_embedding = use_pemb\n",
    "        self.word_embedding = use_wemb\n",
    "        self.char_embedding = use_cemb\n",
    "        self.CORPUS = corpus\n",
    "        self.batch_size = batch_size\n",
    "        self.learning_rate = learning_rate\n",
    "        self.pretrained_embeddings = pretrained_embeddings\n",
    "        \n",
    "    def loadData(self):\n",
    "        if self.CORPUS == 'conll':\n",
    "            self.train_sentences = pd.read_csv('./corpus/conll/conll_train.csv')\n",
    "            self.dev_sentences = pd.read_csv('./corpus/conll/conll_test.csv')\n",
    "            self.test_sentences = pd.read_csv('./corpus/conll/conll_dev.csv')\n",
    "        \n",
    "            \n",
    "            if 'Unnamed: 0'  in self.train_sentences.columns:\n",
    "                del self.train_sentences['Unnamed: 0']\n",
    "            if 'Unnamed: 0'  in self.dev_sentences.columns:\n",
    "                del self.dev_sentences['Unnamed: 0']\n",
    "            if 'Unnamed: 0'  in self.test_sentences.columns:\n",
    "                del self.test_sentences['Unnamed: 0']\n",
    "                \n",
    "        elif self.CORPUS == 'ancora':\n",
    "            data = pd.read_csv('./corpus/ancora/ancora_corpus_pos.csv')\n",
    "            \n",
    "            if 'Unnamed: 0'  in data.columns:\n",
    "                del data['Unnamed: 0']\n",
    "                \n",
    "            self.train_sentences, tmp_test = train_test_split(data, test_size=0.1, random_state=42, shuffle=True)\n",
    "            self.test_sentences, self.dev_sentences =  train_test_split(tmp_test, test_size=0.5, random_state=42, shuffle=True)\n",
    "            del data\n",
    "            del tmp_test\n",
    "            \n",
    "        self.total_corpus = pd.concat([ self.train_sentences, self.dev_sentences, self.test_sentences])\n",
    "    def separeteInput(self):\n",
    "        \n",
    "        self.sentence_train_text, self.sentence_train_post, self.sentence_train_ners = SeparateInput(self.train_sentences)\n",
    "        self.sentence_dev_text, self.sentence_dev_post, self.sentence_dev_ners = SeparateInput(self.dev_sentences)\n",
    "        self.sentence_test_text, self.sentence_test_post, self.sentence_test_ners = SeparateInput(self.test_sentences)\n",
    "        self.sentence_text, self.sentence_post, self.sentence_ners = SeparateInput(self.total_corpus)\n",
    "      \n",
    "        \n",
    "    def createVocabs(self):\n",
    "        \n",
    "        self.words = self.total_corpus['Word'].unique().tolist()\n",
    "        self.nertags = self.total_corpus['Tag'].unique().tolist()\n",
    "        self.postags = self.total_corpus['POS'].unique().tolist()\n",
    "        \n",
    "        self.MAX_VOCAB = len(self.words)\n",
    "        \n",
    "        self.word2idx, self.idx2word = get_vocab(self.sentence_text, self.MAX_VOCAB-2)\n",
    "        self.pos2idx, self.idx2pos = get_vocab(self.sentence_post, len(set(self.postags))+2)\n",
    "        self.ner2idx, self.idx2ner = get_vocab(self.sentence_ners, len(set(self.nertags))+2)\n",
    "        \n",
    "        self.TAG_VOCAB = len(list(self.idx2pos.keys()))\n",
    "        self.NER_VOCAB = len(list(self.idx2ner.keys()))\n",
    "        charSet = set()\n",
    "        for sentence in self.sentence_text:\n",
    "          #print(sentence)\n",
    "          for token in sentence:\n",
    "            for char1 in token:\n",
    "                charSet.add(char1)\n",
    "        chartList = list(charSet)\n",
    "        \n",
    "        self.char2idx = {\"PAD\": 0, \"UNK\": 1}\n",
    "        for c in chartList:\n",
    "            self.char2idx[c] = len(self.char2idx)\n",
    "        \n",
    "        self.idx2Char = {v: k for k, v in self.char2idx.items()}\n",
    "        self.CHAR_VOCAB  = len(list(self.idx2Char))\n",
    "    \n",
    "    def createIndexes(self):\n",
    "        \n",
    "        #DATOS DE ENTRENAMIENTO\n",
    "        self.sentence_train_text_idx = index_sents(self.sentence_train_text, self.word2idx)\n",
    "        self.sentence_train_post_idx = index_sents(self.sentence_train_post, self.pos2idx)\n",
    "        self.sentence_train_ners_idx = index_sents(self.sentence_train_ners, self.ner2idx)\n",
    "        print(\"TRAIN:\", str(len(self.sentence_train_post_idx)))\n",
    "        #DATOS DE DEV\n",
    "        self.sentence_dev_text_idx = index_sents(self.sentence_dev_text, self.word2idx)\n",
    "        self.sentence_dev_post_idx = index_sents(self.sentence_dev_post, self.pos2idx)\n",
    "        self.sentence_dev_ners_idx = index_sents(self.sentence_dev_ners, self.ner2idx)\n",
    "        print(\"DEV:\", str(len(self.sentence_dev_post_idx)))\n",
    "        #DATOS DE TESTEO\n",
    "        self.sentence_test_text_idx = index_sents(self.sentence_test_text, self.word2idx)\n",
    "        self.sentence_test_post_idx = index_sents(self.sentence_test_post, self.pos2idx)\n",
    "        self.sentence_test_ners_idx = index_sents(self.sentence_test_ners, self.ner2idx)\n",
    "        print(\"TRAIN:\", str(len(self.sentence_test_post_idx)))\n",
    "        \n",
    "        self.sentence_train_char_idx = GetCharSentence(self.sentence_train_text, self.sentence_max_length, self.max_len_char, self.char2idx)\n",
    "        self.sentence_dev_char_idx = GetCharSentence(self.sentence_dev_text, self.sentence_max_length, self.max_len_char, self.char2idx)\n",
    "        self.sentence_test_char_idx = GetCharSentence(self.sentence_test_text, self.sentence_max_length, self.max_len_char, self.char2idx)\n",
    "    \n",
    "    def padding(self):\n",
    "        self.X_train_char = np.asarray(self.sentence_train_char_idx)\n",
    "        self.X_dev_char = np.asarray(self.sentence_dev_char_idx)\n",
    "        self.X_test_char = np.asarray(self.sentence_test_char_idx)\n",
    "        \n",
    "        \n",
    "        \n",
    "        self.X_train_sents = self.sentence_train_text_idx\n",
    "        self.X_test_sents = self.sentence_test_text_idx\n",
    "        self.X_dev_sents = self.sentence_dev_text_idx\n",
    "        self.X_train_pos = self.sentence_train_post_idx\n",
    "        self.X_test_pos = self.sentence_test_post_idx\n",
    "        self.X_dev_pos = self.sentence_dev_post_idx\n",
    "        \n",
    "        self.Y_train_ner =  self.sentence_train_ners_idx\n",
    "        self.Y_test_ner =  self.sentence_test_ners_idx\n",
    "        self.Y_dev_ner =  self.sentence_dev_ners_idx\n",
    "        \n",
    "        self.Y_train_ner = sequence.pad_sequences(self.Y_train_ner, maxlen=self.sentence_max_length, truncating='post', padding='post')\n",
    "        self.Y_test_ner = sequence.pad_sequences(self.Y_test_ner, maxlen=self.sentence_max_length, truncating='post', padding='post')\n",
    "        self.Y_dev_ner = sequence.pad_sequences(self.Y_dev_ner, maxlen=self.sentence_max_length, truncating='post', padding='post')\n",
    "        \n",
    "        \n",
    "        ##Reshape\n",
    "        self.Y_train_ner = self.Y_train_ner[:, :, np.newaxis]\n",
    "        self.Y_test_ner = self.Y_test_ner[:, :, np.newaxis]\n",
    "        self.Y_dev_ner = self.Y_dev_ner[:, :, np.newaxis]\n",
    "\n",
    "        # zero-pad the sequences to max length\n",
    "        print(\"zero-padding sequences...\\n\")\n",
    "        self.X_train_sents = sequence.pad_sequences(self.X_train_sents, maxlen=self.sentence_max_length, truncating='post', padding='post')\n",
    "        self.X_test_sents = sequence.pad_sequences(self.X_test_sents, maxlen=self.sentence_max_length, truncating='post', padding='post')\n",
    "        self.X_dev_sents = sequence.pad_sequences(self.X_dev_sents, maxlen=self.sentence_max_length, truncating='post', padding='post')\n",
    "        self.X_train_pos = sequence.pad_sequences(self.X_train_pos, maxlen=self.sentence_max_length, truncating='post', padding='post')\n",
    "        self.X_test_pos = sequence.pad_sequences(self.X_test_pos, maxlen=self.sentence_max_length, truncating='post', padding='post')\n",
    "        self.X_dev_pos = sequence.pad_sequences(self.X_dev_pos, maxlen=self.sentence_max_length, truncating='post', padding='post')\n",
    "    \n",
    "    def embed(self):\n",
    "        ### Embeddings de palabras y postag\n",
    "        indices = [i for i in range(len(self.sentence_text))]\n",
    "        if self.word_embedding and not self.pretrained_embeddings:\n",
    "            \n",
    "            train_sent_texts = [self.sentence_text[idx] for idx in indices]\n",
    "\n",
    "            self.w2v_vocab, self.w2v_model = create_embeddings(train_sent_texts,\n",
    "                                   embeddings_path='./embeddings/text_embeddings.gensimmodel',\n",
    "                                   vocab_path='./embeddings/text_mapping.json',\n",
    "                                   size=300,\n",
    "                                   workers=4,\n",
    "                                   iter=20)\n",
    "            \n",
    "            self.word_embedding_matrix = np.zeros((self.MAX_VOCAB, self.embedding_size))\n",
    "            c = 0\n",
    "            for word in self.word2idx.keys():\n",
    "                # get the word vector from the embedding model\n",
    "                # if it's there (check against vocab list)\n",
    "                if word in self.w2v_vocab:\n",
    "                    c += 1\n",
    "                    # get the word vector\n",
    "                    word_vector = self.w2v_model[word]\n",
    "                    # slot it in at the proper index\n",
    "                    self.word_embedding_matrix[self.word2idx[word]] = word_vector\n",
    "            print(\"adicionados\", c, \"vectores\")\n",
    "        else:\n",
    "            f =  open('./embeddings/SBW_w2v/SBW-vectors-300-min5.txt', encoding='utf-8') \n",
    "            embeddings_index = {}\n",
    "            for a, line in enumerate(f):\n",
    "                if a > 0:\n",
    "                    values = line.split()\n",
    "                    word = values[0]\n",
    "                    coefs = np.asarray(values[1:], dtype='float32')\n",
    "                    embeddings_index[word] = coefs\n",
    "            f.close()\n",
    "            \n",
    "            self.word_embedding_matrix = np.zeros((self.MAX_VOCAB, self.embedding_size))\n",
    "            for t, (word, i) in enumerate(self.word2idx.items()):\n",
    "                embedding_vector = embeddings_index.get(word)\n",
    "                if embedding_vector is not None:\n",
    "                    # las palabras que no se encuentren en el índice de inserción serán todos ceros.\n",
    "                    self.word_embedding_matrix[t] = embedding_vector\n",
    "\n",
    "            print(self.word_embedding_matrix.shape)\n",
    "            \n",
    "        if self.pos_embedding:\n",
    "            train_post_texts = [self.sentence_post[idx] for idx in indices]\n",
    "\n",
    "            self.w2v_pvocab, self.w2v_pmodel = create_embeddings(train_post_texts,\n",
    "                                     embeddings_path='./embeddings/pos_embeddings.gensimmodel',\n",
    "                                     vocab_path='./embeddings/pos_mapping.json',\n",
    "                                     size=300,\n",
    "                                     workers=4,\n",
    "                                     iter=20)\n",
    "            \n",
    "            self.pos_embedding_matrix = np.zeros((self.TAG_VOCAB, self.embedding_size))\n",
    "            c = 0\n",
    "            for word in self.pos2idx.keys():\n",
    "                # get the word vector from the embedding model\n",
    "                # if it's there (check against vocab list)\n",
    "                if word in self.w2v_pvocab:\n",
    "                    c += 1\n",
    "                    # get the word vector\n",
    "                    word_vector = self.w2v_pmodel[word]\n",
    "                    # slot it in at the proper index\n",
    "                    self.pos_embedding_matrix[self.pos2idx[word]] = word_vector\n",
    "            print(\"adicionamos\", c, \"vectores\")\n",
    "    \n",
    "    def builModel(self):\n",
    "        ### Agregar capas\n",
    "        #Char Embeddings\n",
    "        txt_drpot =None\n",
    "        char  = None\n",
    "        pos_drpot = None\n",
    "        mrg_cncat = None\n",
    "        if self.char_embedding:\n",
    "            char_input = Input(shape=(None, self.max_len_char),  name='char_input')\n",
    "            #char_input = Input(shape=(self.sentence_max_length, self.max_len_char),  name='char_input')\n",
    "            char_embed = TimeDistributed(Embedding(input_dim=self.CHAR_VOCAB,output_dim=300, embeddings_initializer=RandomUniform(minval=-0.5, maxval=0.5), name=\"Character_embedding\"))(char_input)\n",
    "            char_drpot = Dropout(self.dropout, name='char_dropout', trainable=True)(char_embed)\n",
    "\n",
    "            conv1d_out = TimeDistributed(Conv1D(kernel_size=self.conv_size, filters=100, padding='same', activation='tanh', strides=1), name=\"Convolution\")(char_drpot)\n",
    "            maxpool_out = TimeDistributed(MaxPooling1D(self.max_len_char), name=\"Maxpool\")(conv1d_out)\n",
    "            char = TimeDistributed(Flatten(), name=\"Flatten\")(maxpool_out)\n",
    "            char = Dropout(self.dropout)(char)\n",
    "\n",
    "            \n",
    "            print(\"Ready char!\")\n",
    "        \n",
    "        \n",
    "        #POS Embeddings\n",
    "        if self.pos_embedding:\n",
    "            pos_input = Input(shape=(None,), name='pos_input')\n",
    "            #pos_input = Input(shape=(self.sentence_max_length,), name='pos_input')\n",
    "            pos_embed = Embedding(self.TAG_VOCAB, self.embedding_size, #input_length=self.s,\n",
    "                                  weights=[self.pos_embedding_matrix],\n",
    "                                  name='pos_embedding', trainable=True)(pos_input)\n",
    "            pos_drpot = Dropout(self.dropout, name='pos_dropout')(pos_embed)\n",
    "            print(\"Ready POS!\")\n",
    "        \n",
    "        ### WROD embeddings\n",
    "        txt_input = Input(shape=(None,), name='txt_input')\n",
    "        #txt_input = Input(shape=(self.sentence_max_length,), name='txt_input')\n",
    "        txt_embed = Embedding(self.MAX_VOCAB, self.embedding_size, #input_length=MAX_LENGTH,\n",
    "                              weights=[self.word_embedding_matrix],\n",
    "                              name='txt_embedding', trainable=True)(txt_input)\n",
    "        txt_drpot = Dropout(self.dropout, name='txt_dropout')(txt_embed)\n",
    "        print(\"Ready Word!\")\n",
    "        \n",
    "        if self.char_embedding and self.pos_embedding:\n",
    "            mrg_cncat = concatenate([txt_drpot, pos_drpot, char])\n",
    "        \n",
    "        elif self.char_embedding:\n",
    "            mrg_cncat = concatenate([txt_drpot, char])\n",
    "                \n",
    "        elif self.pos_embedding:\n",
    "            mrg_cncat = concatenate([txt_drpot, pos_drpot])\n",
    "        \n",
    "        else:\n",
    "             mrg_cncat = concatenate([txt_drpot])\n",
    "                \n",
    "            \n",
    "        mrg_lstml = Bidirectional(LSTM(self.lstm_size, return_sequences=True),\n",
    "                          name='mrg_bidirectional_1')(mrg_cncat)\n",
    "        \n",
    "        mrg_drpot = Dropout(self.dropout, name='mrg_dropout')(mrg_lstml)\n",
    "        mrg_lstml = Bidirectional(LSTM(self.lstm_size, return_sequences=True),\n",
    "                          name='mrg_bidirectional_2')(mrg_lstml)\n",
    "        \n",
    "        crf = CRF(self.NER_VOCAB, sparse_target=True)\n",
    "        mrg_chain = crf(mrg_lstml)\n",
    "        \n",
    "        crf = CRF(self.NER_VOCAB, sparse_target=True)\n",
    "        mrg_chain = crf(mrg_lstml)\n",
    "        \n",
    "        if self.char_embedding and self.pos_embedding:\n",
    "            self.Model = Model(inputs=[txt_input, pos_input, char_input], outputs=mrg_chain)\n",
    "        elif self.char_embedding:\n",
    "            self.Model = Model(inputs=[txt_input, char_input], outputs=mrg_chain)\n",
    "        elif self.pos_embedding:    \n",
    "            self.Model = Model(inputs=[txt_input, pos_input], outputs=mrg_chain)\n",
    "        else:\n",
    "            self.Model = Model(inputs=txt_drpot, outputs=mrg_chain)\n",
    "        \n",
    "        optimizer = Adam(learning_rate=self.learning_rate)\n",
    "        \n",
    "        self.Model.compile(optimizer=optimizer,\n",
    "              loss=crf.loss_function,\n",
    "              metrics=[crf.accuracy])\n",
    "    def train(self):\n",
    "        if self.char_embedding and self.pos_embedding:\n",
    "            self.history = self.Model.fit([self.X_train_sents, self.X_train_pos,  self.X_train_char], self.Y_train_ner,\n",
    "                    batch_size=self.batch_size,\n",
    "                    epochs=self.epochs,\n",
    "                    validation_data=([self.X_dev_sents,self.X_dev_pos ,self.X_dev_char], self.Y_dev_ner),\n",
    "                    verbose=0 ,callbacks=[TQDMNotebookCallback(leave_inner=True, leave_outer=True)])\n",
    "        elif self.char_embedding:\n",
    "            self.history = self.Model.fit([self.X_train_sents, self.X_train_char], self.Y_train_ner,\n",
    "                    batch_size=self.batch_size,\n",
    "                    epochs=self.epochs,\n",
    "                    validation_data=([self.X_dev_sents, self.X_dev_char],self.Y_dev_ner),\n",
    "                    verbose=0 ,callbacks=[TQDMNotebookCallback(leave_inner=True, leave_outer=True)])\n",
    "        elif self.pos_embedding:\n",
    "            self.history = self.Model.fit([self.X_train_sents, self.X_train_pos,  ], self.Y_train_ner,\n",
    "                    batch_size=self.batch_size,\n",
    "                    epochs=self.epochs,\n",
    "                    validation_data=([self.X_dev_sents,self.X_dev_pos ], self.Y_dev_ner),\n",
    "                    verbose=0 ,callbacks=[TQDMNotebookCallback(leave_inner=True, leave_outer=True)])\n",
    "        else:\n",
    "            self.history = self.Model.fit(self.X_train_sents, self.Y_train_ner,\n",
    "                    batch_size=self.batch_size,\n",
    "                    epochs=self.epochs,\n",
    "                    validation_data=(self.X_dev_sents, self.Y_dev_ner),\n",
    "                    verbose=0 ,callbacks=[TQDMNotebookCallback(leave_inner=True, leave_outer=True)])\n",
    "    \n",
    "    \n",
    "        self.modelName = \"{}_{}_{}_{}_{}_{}_{}\".format(self.epochs, \n",
    "                                                        self.dropout, \n",
    "                                                        self.lstm_size,\n",
    "                                                        self.conv_size,\n",
    "                                                        self.learning_rate,\n",
    "                                                        self.batch_size,\n",
    "                                                        self.CORPUS\n",
    "                                                       )\n",
    "        self.Model.save('./models/'+ self.modelName + 'fff.h5')\n",
    "    \n",
    "    def test(self):\n",
    "        if self.char_embedding and self.pos_embedding:\n",
    "            predictions = self.Model.predict([self.X_test_sents, self.X_test_pos, self.X_test_char])\n",
    "        elif self.char_embedding:\n",
    "            predictions = self.Model.predict([self.X_test_sents, self.X_test_char])\n",
    "        elif self.pos_embedding:\n",
    "            predictions = self.Model.predict([self.X_test_sents, self.X_test_pos])\n",
    "        else:\n",
    "            predictions = self.Model.predict(self.X_test_sents)\n",
    "            \n",
    "        predictions = np.argmax(predictions, axis=-1)\n",
    "        \n",
    "        trues = np.squeeze(self.Y_test_ner, axis=-1)\n",
    "        \n",
    "        s_preds = [[self.idx2ner[t] for t in s] for s in predictions]\n",
    "\n",
    "        s_trues = [[self.idx2ner[t] for t in s] for s in trues]\n",
    "        \n",
    "        \n",
    "        print(\"F1-score: {:.1%}\".format(f1_score(s_preds, s_trues)))\n",
    "        print(\"Recall-score: {:.1%}\".format(recall_score(s_preds, s_trues)))\n",
    "        print(\"Precision-score: {:.1%}\".format(precision_score(s_preds, s_trues)))\n",
    "        print(\"\")\n",
    "        print(classification_report(s_trues, s_preds))\n",
    "        \n",
    "        print(\"\")\n",
    "        print(bio_classification_report(s_trues, s_preds))\n",
    "        \n",
    "    def graphResults(self):\n",
    "        if self.history is not None:\n",
    "            plt.plot(self.history.history['crf_viterbi_accuracy'])\n",
    "            plt.plot(self.history.history['val_crf_viterbi_accuracy'])\n",
    "            plt.title('model accuracy')\n",
    "            plt.ylabel('accuracy')\n",
    "            plt.xlabel('epoch')\n",
    "            plt.legend(['train', 'Dev'], loc='upper left')\n",
    "            plt.show()\n",
    "            # summarize history for loss\n",
    "            plt.plot(self.history.history['loss'])\n",
    "            plt.plot(self.history.history['val_loss'])\n",
    "            plt.title('model loss')\n",
    "            plt.ylabel('loss')\n",
    "            plt.xlabel('epoch')\n",
    "            plt.legend(['train', 'Dev'], loc='upper left')\n",
    "            plt.show()\n",
    "    def plot_model(self):\n",
    "        plot_model(\n",
    "            self.Model,\n",
    "            to_file=\"model.png\",\n",
    "            show_shapes=True,\n",
    "           # show_dtype=False,\n",
    "            show_layer_names=True,\n",
    "            rankdir=\"TB\",\n",
    "            #expand_nested=False,\n",
    "           # dpi=96,\n",
    "        )"
   ]
  },
  {
   "cell_type": "code",
   "execution_count": 5,
   "metadata": {},
   "outputs": [],
   "source": [
    "Ner = NerModel(corpus='conll', epochs=10, batch_size=64, pretrained_embeddings=False, use_pemb = False)"
   ]
  },
  {
   "cell_type": "code",
   "execution_count": 6,
   "metadata": {},
   "outputs": [
    {
     "name": "stdout",
     "output_type": "stream",
     "text": [
      "{'epochs': 10, 'dropout': 0.25, 'lstm_size': 400, 'embedding_size': 300, 'sentence_max_length': 30, 'max_len_char': 10, 'conv_size': 3, 'pos_embedding': False, 'word_embedding': True, 'char_embedding': True, 'CORPUS': 'conll', 'batch_size': 64, 'learning_rate': 0.001, 'pretrained_embeddings': False}\n"
     ]
    }
   ],
   "source": [
    "print(Ner.__dict__)"
   ]
  },
  {
   "cell_type": "code",
   "execution_count": 7,
   "metadata": {},
   "outputs": [
    {
     "name": "stdout",
     "output_type": "stream",
     "text": [
      "Wall time: 0 ns\n",
      "TRAIN: 8323\n",
      "DEV: 1517\n",
      "TRAIN: 1915\n",
      "zero-padding sequences...\n",
      "\n"
     ]
    }
   ],
   "source": [
    "%time\n",
    "Ner.loadData()\n",
    "Ner.separeteInput()\n",
    "Ner.createVocabs()\n",
    "Ner.createIndexes()\n",
    "Ner.padding()"
   ]
  },
  {
   "cell_type": "code",
   "execution_count": 8,
   "metadata": {},
   "outputs": [
    {
     "data": {
      "text/plain": [
       "(8323, 30, 10)"
      ]
     },
     "execution_count": 8,
     "metadata": {},
     "output_type": "execute_result"
    }
   ],
   "source": [
    "Ner.X_train_char.shape"
   ]
  },
  {
   "cell_type": "code",
   "execution_count": 9,
   "metadata": {},
   "outputs": [
    {
     "data": {
      "text/plain": [
       "62"
      ]
     },
     "execution_count": 9,
     "metadata": {},
     "output_type": "execute_result"
    }
   ],
   "source": [
    "len(Ner.idx2pos)"
   ]
  },
  {
   "cell_type": "code",
   "execution_count": 10,
   "metadata": {},
   "outputs": [
    {
     "data": {
      "text/plain": [
       "array([[ 7, 65, 45, 29, 24, 83, 37, 21, 65,  0],\n",
       "       [70,  0,  0,  0,  0,  0,  0,  0,  0,  0],\n",
       "       [ 8, 83, 56, 17, 37, 12, 45, 60, 12,  0],\n",
       "       [ 6,  0,  0,  0,  0,  0,  0,  0,  0,  0],\n",
       "       [32,  0,  0,  0,  0,  0,  0,  0,  0,  0],\n",
       "       [86, 14,  0,  0,  0,  0,  0,  0,  0,  0],\n",
       "       [74, 12, 48,  0,  0,  0,  0,  0,  0,  0],\n",
       "       [70,  0,  0,  0,  0,  0,  0,  0,  0,  0],\n",
       "       [82, 25, 82,  0,  0,  0,  0,  0,  0,  0],\n",
       "       [ 6,  0,  0,  0,  0,  0,  0,  0,  0,  0],\n",
       "       [88,  0,  0,  0,  0,  0,  0,  0,  0,  0],\n",
       "       [ 0,  0,  0,  0,  0,  0,  0,  0,  0,  0],\n",
       "       [ 0,  0,  0,  0,  0,  0,  0,  0,  0,  0],\n",
       "       [ 0,  0,  0,  0,  0,  0,  0,  0,  0,  0],\n",
       "       [ 0,  0,  0,  0,  0,  0,  0,  0,  0,  0],\n",
       "       [ 0,  0,  0,  0,  0,  0,  0,  0,  0,  0],\n",
       "       [ 0,  0,  0,  0,  0,  0,  0,  0,  0,  0],\n",
       "       [ 0,  0,  0,  0,  0,  0,  0,  0,  0,  0],\n",
       "       [ 0,  0,  0,  0,  0,  0,  0,  0,  0,  0],\n",
       "       [ 0,  0,  0,  0,  0,  0,  0,  0,  0,  0],\n",
       "       [ 0,  0,  0,  0,  0,  0,  0,  0,  0,  0],\n",
       "       [ 0,  0,  0,  0,  0,  0,  0,  0,  0,  0],\n",
       "       [ 0,  0,  0,  0,  0,  0,  0,  0,  0,  0],\n",
       "       [ 0,  0,  0,  0,  0,  0,  0,  0,  0,  0],\n",
       "       [ 0,  0,  0,  0,  0,  0,  0,  0,  0,  0],\n",
       "       [ 0,  0,  0,  0,  0,  0,  0,  0,  0,  0],\n",
       "       [ 0,  0,  0,  0,  0,  0,  0,  0,  0,  0],\n",
       "       [ 0,  0,  0,  0,  0,  0,  0,  0,  0,  0],\n",
       "       [ 0,  0,  0,  0,  0,  0,  0,  0,  0,  0],\n",
       "       [ 0,  0,  0,  0,  0,  0,  0,  0,  0,  0]])"
      ]
     },
     "execution_count": 10,
     "metadata": {},
     "output_type": "execute_result"
    }
   ],
   "source": [
    "Ner.X_train_char[0]"
   ]
  },
  {
   "cell_type": "code",
   "execution_count": 11,
   "metadata": {},
   "outputs": [
    {
     "name": "stderr",
     "output_type": "stream",
     "text": [
      "C:\\Users\\Camilo\\Anaconda3\\envs\\thesis\\lib\\site-packages\\ipykernel_launcher.py:165: DeprecationWarning: Call to deprecated `__getitem__` (Method will be removed in 4.0.0, use self.wv.__getitem__() instead).\n"
     ]
    },
    {
     "name": "stdout",
     "output_type": "stream",
     "text": [
      "adicionados 6947 vectores\n",
      "Wall time: 5.2 s\n"
     ]
    }
   ],
   "source": [
    "%%time \n",
    "Ner.embed()"
   ]
  },
  {
   "cell_type": "code",
   "execution_count": 12,
   "metadata": {},
   "outputs": [
    {
     "name": "stdout",
     "output_type": "stream",
     "text": [
      "Ready char!\n",
      "Ready Word!\n"
     ]
    },
    {
     "name": "stderr",
     "output_type": "stream",
     "text": [
      "C:\\Users\\Camilo\\Anaconda3\\envs\\thesis\\lib\\site-packages\\keras_contrib-2.0.8-py3.7.egg\\keras_contrib\\layers\\crf.py:346: UserWarning: CRF.loss_function is deprecated and it might be removed in the future. Please use losses.crf_loss instead.\n",
      "C:\\Users\\Camilo\\Anaconda3\\envs\\thesis\\lib\\site-packages\\keras_contrib-2.0.8-py3.7.egg\\keras_contrib\\layers\\crf.py:353: UserWarning: CRF.accuracy is deprecated and it might be removed in the future. Please use metrics.crf_accuracy\n"
     ]
    },
    {
     "name": "stdout",
     "output_type": "stream",
     "text": [
      "Wall time: 3.25 s\n"
     ]
    }
   ],
   "source": [
    "%%time\n",
    "Ner.builModel()"
   ]
  },
  {
   "cell_type": "code",
   "execution_count": 13,
   "metadata": {},
   "outputs": [
    {
     "name": "stdout",
     "output_type": "stream",
     "text": [
      "Model: \"model_1\"\n",
      "__________________________________________________________________________________________________\n",
      "Layer (type)                    Output Shape         Param #     Connected to                     \n",
      "==================================================================================================\n",
      "char_input (InputLayer)         (None, None, 10)     0                                            \n",
      "__________________________________________________________________________________________________\n",
      "time_distributed_1 (TimeDistrib (None, None, 10, 300 27900       char_input[0][0]                 \n",
      "__________________________________________________________________________________________________\n",
      "char_dropout (Dropout)          (None, None, 10, 300 0           time_distributed_1[0][0]         \n",
      "__________________________________________________________________________________________________\n",
      "Convolution (TimeDistributed)   (None, None, 10, 100 90100       char_dropout[0][0]               \n",
      "__________________________________________________________________________________________________\n",
      "txt_input (InputLayer)          (None, None)         0                                            \n",
      "__________________________________________________________________________________________________\n",
      "Maxpool (TimeDistributed)       (None, None, 1, 100) 0           Convolution[0][0]                \n",
      "__________________________________________________________________________________________________\n",
      "txt_embedding (Embedding)       (None, None, 300)    9421500     txt_input[0][0]                  \n",
      "__________________________________________________________________________________________________\n",
      "Flatten (TimeDistributed)       (None, None, 100)    0           Maxpool[0][0]                    \n",
      "__________________________________________________________________________________________________\n",
      "txt_dropout (Dropout)           (None, None, 300)    0           txt_embedding[0][0]              \n",
      "__________________________________________________________________________________________________\n",
      "dropout_1 (Dropout)             (None, None, 100)    0           Flatten[0][0]                    \n",
      "__________________________________________________________________________________________________\n",
      "concatenate_1 (Concatenate)     (None, None, 400)    0           txt_dropout[0][0]                \n",
      "                                                                 dropout_1[0][0]                  \n",
      "__________________________________________________________________________________________________\n",
      "mrg_bidirectional_1 (Bidirectio (None, None, 800)    2563200     concatenate_1[0][0]              \n",
      "__________________________________________________________________________________________________\n",
      "mrg_bidirectional_2 (Bidirectio (None, None, 800)    3843200     mrg_bidirectional_1[0][0]        \n",
      "__________________________________________________________________________________________________\n",
      "crf_2 (CRF)                     (None, None, 11)     8954        mrg_bidirectional_2[0][0]        \n",
      "==================================================================================================\n",
      "Total params: 15,954,854\n",
      "Trainable params: 15,954,854\n",
      "Non-trainable params: 0\n",
      "__________________________________________________________________________________________________\n",
      "Wall time: 30 ms\n"
     ]
    }
   ],
   "source": [
    "%%time\n",
    "Ner.Model.summary()"
   ]
  },
  {
   "cell_type": "code",
   "execution_count": 14,
   "metadata": {},
   "outputs": [],
   "source": [
    "Ner.plot_model()"
   ]
  },
  {
   "cell_type": "code",
   "execution_count": 15,
   "metadata": {},
   "outputs": [
    {
     "name": "stderr",
     "output_type": "stream",
     "text": [
      "C:\\Users\\Camilo\\Anaconda3\\envs\\thesis\\lib\\site-packages\\tensorflow_core\\python\\framework\\indexed_slices.py:433: UserWarning: Converting sparse IndexedSlices to a dense Tensor of unknown shape. This may consume a large amount of memory.\n",
      "  \"Converting sparse IndexedSlices to a dense Tensor of unknown shape. \"\n"
     ]
    },
    {
     "data": {
      "application/vnd.jupyter.widget-view+json": {
       "model_id": "c1faa319770341379d5055b002c58c5e",
       "version_major": 2,
       "version_minor": 0
      },
      "text/plain": [
       "HBox(children=(IntProgress(value=0, description='Training', max=10, style=ProgressStyle(description_width='ini…"
      ]
     },
     "metadata": {},
     "output_type": "display_data"
    },
    {
     "data": {
      "application/vnd.jupyter.widget-view+json": {
       "model_id": "4562b08ca81449d1abad3db33ca94782",
       "version_major": 2,
       "version_minor": 0
      },
      "text/plain": [
       "HBox(children=(IntProgress(value=0, description='Epoch 0', max=8323, style=ProgressStyle(description_width='in…"
      ]
     },
     "metadata": {},
     "output_type": "display_data"
    },
    {
     "name": "stdout",
     "output_type": "stream",
     "text": [
      "\n"
     ]
    },
    {
     "data": {
      "application/vnd.jupyter.widget-view+json": {
       "model_id": "b3215a2e057a45ffaf878c2d524bb7a5",
       "version_major": 2,
       "version_minor": 0
      },
      "text/plain": [
       "HBox(children=(IntProgress(value=0, description='Epoch 1', max=8323, style=ProgressStyle(description_width='in…"
      ]
     },
     "metadata": {},
     "output_type": "display_data"
    },
    {
     "name": "stdout",
     "output_type": "stream",
     "text": [
      "\n"
     ]
    },
    {
     "data": {
      "application/vnd.jupyter.widget-view+json": {
       "model_id": "b7b26c08ade1440c8d94f1bcbe70ec83",
       "version_major": 2,
       "version_minor": 0
      },
      "text/plain": [
       "HBox(children=(IntProgress(value=0, description='Epoch 2', max=8323, style=ProgressStyle(description_width='in…"
      ]
     },
     "metadata": {},
     "output_type": "display_data"
    },
    {
     "name": "stdout",
     "output_type": "stream",
     "text": [
      "\n"
     ]
    },
    {
     "data": {
      "application/vnd.jupyter.widget-view+json": {
       "model_id": "bff98e789de24ffba82e00c4198f564c",
       "version_major": 2,
       "version_minor": 0
      },
      "text/plain": [
       "HBox(children=(IntProgress(value=0, description='Epoch 3', max=8323, style=ProgressStyle(description_width='in…"
      ]
     },
     "metadata": {},
     "output_type": "display_data"
    },
    {
     "name": "stdout",
     "output_type": "stream",
     "text": [
      "\n"
     ]
    },
    {
     "data": {
      "application/vnd.jupyter.widget-view+json": {
       "model_id": "773e2e1c0eb34bd782d28860a054a693",
       "version_major": 2,
       "version_minor": 0
      },
      "text/plain": [
       "HBox(children=(IntProgress(value=0, description='Epoch 4', max=8323, style=ProgressStyle(description_width='in…"
      ]
     },
     "metadata": {},
     "output_type": "display_data"
    },
    {
     "name": "stdout",
     "output_type": "stream",
     "text": [
      "\n"
     ]
    },
    {
     "data": {
      "application/vnd.jupyter.widget-view+json": {
       "model_id": "be4b7f9782d5459daa7c455a665975ca",
       "version_major": 2,
       "version_minor": 0
      },
      "text/plain": [
       "HBox(children=(IntProgress(value=0, description='Epoch 5', max=8323, style=ProgressStyle(description_width='in…"
      ]
     },
     "metadata": {},
     "output_type": "display_data"
    },
    {
     "name": "stdout",
     "output_type": "stream",
     "text": [
      "\n"
     ]
    },
    {
     "data": {
      "application/vnd.jupyter.widget-view+json": {
       "model_id": "9fb12753d57544bc9d06960daff86e0e",
       "version_major": 2,
       "version_minor": 0
      },
      "text/plain": [
       "HBox(children=(IntProgress(value=0, description='Epoch 6', max=8323, style=ProgressStyle(description_width='in…"
      ]
     },
     "metadata": {},
     "output_type": "display_data"
    },
    {
     "name": "stdout",
     "output_type": "stream",
     "text": [
      "\n"
     ]
    },
    {
     "data": {
      "application/vnd.jupyter.widget-view+json": {
       "model_id": "51cbecc87f3d470d8a463b1e23100fd2",
       "version_major": 2,
       "version_minor": 0
      },
      "text/plain": [
       "HBox(children=(IntProgress(value=0, description='Epoch 7', max=8323, style=ProgressStyle(description_width='in…"
      ]
     },
     "metadata": {},
     "output_type": "display_data"
    },
    {
     "name": "stdout",
     "output_type": "stream",
     "text": [
      "\n"
     ]
    },
    {
     "data": {
      "application/vnd.jupyter.widget-view+json": {
       "model_id": "0d619618ee624569864033a63c4609c4",
       "version_major": 2,
       "version_minor": 0
      },
      "text/plain": [
       "HBox(children=(IntProgress(value=0, description='Epoch 8', max=8323, style=ProgressStyle(description_width='in…"
      ]
     },
     "metadata": {},
     "output_type": "display_data"
    },
    {
     "name": "stdout",
     "output_type": "stream",
     "text": [
      "\n"
     ]
    },
    {
     "data": {
      "application/vnd.jupyter.widget-view+json": {
       "model_id": "f27edc1b6c804f6185242ae46cb93a27",
       "version_major": 2,
       "version_minor": 0
      },
      "text/plain": [
       "HBox(children=(IntProgress(value=0, description='Epoch 9', max=8323, style=ProgressStyle(description_width='in…"
      ]
     },
     "metadata": {},
     "output_type": "display_data"
    },
    {
     "name": "stdout",
     "output_type": "stream",
     "text": [
      "\n",
      "\n"
     ]
    }
   ],
   "source": [
    "Ner.train()"
   ]
  },
  {
   "cell_type": "code",
   "execution_count": 16,
   "metadata": {},
   "outputs": [
    {
     "data": {
      "image/png": "[encoded data removed]",
      "text/plain": [
       "<Figure size 432x288 with 1 Axes>"
      ]
     },
     "metadata": {
      "needs_background": "light"
     },
     "output_type": "display_data"
    },
    {
     "data": {
      "image/png": "[encoded data removed]",
      "text/plain": [
       "<Figure size 432x288 with 1 Axes>"
      ]
     },
     "metadata": {
      "needs_background": "light"
     },
     "output_type": "display_data"
    }
   ],
   "source": [
    "Ner.graphResults()"
   ]
  },
  {
   "cell_type": "code",
   "execution_count": 17,
   "metadata": {},
   "outputs": [
    {
     "name": "stdout",
     "output_type": "stream",
     "text": [
      "F1-score: 81.7%\n",
      "Recall-score: 81.9%\n",
      "Precision-score: 81.5%\n",
      "\n",
      "           precision    recall  f1-score   support\n",
      "\n",
      "      LOC       0.70      0.80      0.75       747\n",
      "      PAD       1.00      1.00      1.00      1002\n",
      "      PER       0.88      0.82      0.85       949\n",
      "      ORG       0.80      0.75      0.78      1297\n",
      "     MISC       0.50      0.51      0.50       332\n",
      "\n",
      "micro avg       0.82      0.82      0.82      4327\n",
      "macro avg       0.82      0.82      0.82      4327\n",
      "\n",
      "\n"
     ]
    },
    {
     "name": "stderr",
     "output_type": "stream",
     "text": [
      "C:\\Users\\Camilo\\Anaconda3\\envs\\thesis\\lib\\site-packages\\sklearn\\metrics\\classification.py:1437: UndefinedMetricWarning: Precision and F-score are ill-defined and being set to 0.0 in samples with no predicted labels.\n",
      "  'precision', 'predicted', average, warn_for)\n",
      "C:\\Users\\Camilo\\Anaconda3\\envs\\thesis\\lib\\site-packages\\sklearn\\metrics\\classification.py:1439: UndefinedMetricWarning: Recall and F-score are ill-defined and being set to 0.0 in samples with no true labels.\n",
      "  'recall', 'true', average, warn_for)\n"
     ]
    },
    {
     "name": "stdout",
     "output_type": "stream",
     "text": [
      "              precision    recall  f1-score   support\n",
      "\n",
      "       B-LOC       0.72      0.82      0.77       746\n",
      "       I-LOC       0.64      0.77      0.70       261\n",
      "      B-MISC       0.59      0.58      0.59       332\n",
      "      I-MISC       0.66      0.51      0.58       461\n",
      "       B-ORG       0.84      0.78      0.81      1297\n",
      "       I-ORG       0.84      0.70      0.76       947\n",
      "       B-PER       0.90      0.83      0.86       949\n",
      "       I-PER       0.90      0.93      0.92       652\n",
      "\n",
      "   micro avg       0.80      0.76      0.78      5645\n",
      "   macro avg       0.76      0.74      0.75      5645\n",
      "weighted avg       0.80      0.76      0.78      5645\n",
      " samples avg       0.08      0.08      0.08      5645\n",
      "\n"
     ]
    }
   ],
   "source": [
    "Ner.test()"
   ]
  },
  {
   "cell_type": "code",
   "execution_count": 18,
   "metadata": {},
   "outputs": [],
   "source": [
    "def numpy_save(saves, names):\n",
    "    for idx, item in enumerate(saves):\n",
    "        np.save('encoded/{0}.npy'.format(names[idx]), item)\n",
    "    return"
   ]
  },
  {
   "cell_type": "code",
   "execution_count": 22,
   "metadata": {},
   "outputs": [],
   "source": [
    "saves = [\n",
    "    Ner.word2idx, Ner.idx2word,\n",
    "    Ner.char2idx, Ner.idx2Char,\n",
    "    Ner.pos2idx, Ner.idx2pos,\n",
    "    Ner.ner2idx, Ner.idx2ner\n",
    "    \n",
    "]\n",
    "\n",
    "names = [\n",
    "    'word2idx', 'idx2word',\n",
    "    'char2idx', 'idx2char',\n",
    "    'pos2idx', 'idx2pos',\n",
    "    'ner2idx', 'idx2ner'\n",
    "]"
   ]
  },
  {
   "cell_type": "code",
   "execution_count": 23,
   "metadata": {},
   "outputs": [],
   "source": [
    "numpy_save(saves, names)"
   ]
  },
  {
   "cell_type": "code",
   "execution_count": null,
   "metadata": {},
   "outputs": [],
   "source": []
  }
 ],
 "metadata": {
  "kernelspec": {
   "display_name": "Python 3",
   "language": "python",
   "name": "python3"
  },
  "language_info": {
   "codemirror_mode": {
    "name": "ipython",
    "version": 3
   },
   "file_extension": ".py",
   "mimetype": "text/x-python",
   "name": "python",
   "nbconvert_exporter": "python",
   "pygments_lexer": "ipython3",
   "version": "3.7.4"
  }
 },
 "nbformat": 4,
 "nbformat_minor": 2
}
